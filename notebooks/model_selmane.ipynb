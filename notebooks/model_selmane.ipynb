{
 "cells": [
  {
   "cell_type": "markdown",
   "id": "af4cc9c6-a7d6-44bf-909e-5fe28fcd9383",
   "metadata": {},
   "source": [
    "# Application de recommendation de films"
   ]
  },
  {
   "cell_type": "markdown",
   "id": "82baf3d0-bec5-4242-ab3f-ad00c3ecb5e3",
   "metadata": {},
   "source": [
    "Vous devrez élaborer une application capable de retourner 5 recommandations de films similaires et intéressants pour l'utilisateur, à partir d’une requête d’un nom de film. "
   ]
  },
  {
   "cell_type": "code",
   "execution_count": 60,
   "id": "5b5d6726-351a-4b21-8259-5fb337dd9f59",
   "metadata": {},
   "outputs": [],
   "source": [
    "# import des librairies \n",
    "import pandas as pd\n",
    "import numpy as np \n",
    "import os\n",
    "from dotenv import load_dotenv\n",
    "\n",
    "# connection to bdd\n",
    "from sqlalchemy import create_engine\n",
    "from surprise import SVD\n",
    "from surprise import Dataset\n",
    "from surprise import Reader\n",
    "from surprise.model_selection import train_test_split\n",
    "from surprise import accuracy"
   ]
  },
  {
   "cell_type": "code",
   "execution_count": 80,
   "id": "7c02acbe-aefb-40ac-b4e8-1cc34350fea2",
   "metadata": {},
   "outputs": [],
   "source": [
    "# connexion à la bdd avec sqlalchemy\n",
    "load_dotenv()\n",
    "\n",
    "username = os.getenv(\"username\")\n",
    "password = os.getenv(\"password\")\n",
    "host = os.getenv(\"host\")\n",
    "port = os.getenv(\"port\")\n",
    "dbname = os.getenv(\"dbname\")\n",
    "\n",
    "connection_string = f\"mysql+mysqlconnector://{username}:{password}@{host}:{port}/{dbname}\"\n",
    "engine = create_engine(connection_string)"
   ]
  },
  {
   "cell_type": "code",
   "execution_count": 81,
   "id": "d68d6dcf-bd98-4a3f-b5fe-2715fb03a4d3",
   "metadata": {},
   "outputs": [
    {
     "data": {
      "text/html": [
       "<div>\n",
       "<style scoped>\n",
       "    .dataframe tbody tr th:only-of-type {\n",
       "        vertical-align: middle;\n",
       "    }\n",
       "\n",
       "    .dataframe tbody tr th {\n",
       "        vertical-align: top;\n",
       "    }\n",
       "\n",
       "    .dataframe thead th {\n",
       "        text-align: right;\n",
       "    }\n",
       "</style>\n",
       "<table border=\"1\" class=\"dataframe\">\n",
       "  <thead>\n",
       "    <tr style=\"text-align: right;\">\n",
       "      <th></th>\n",
       "      <th>movie_title</th>\n",
       "      <th>actor_1_name</th>\n",
       "      <th>genres</th>\n",
       "      <th>imdb_score</th>\n",
       "      <th>director_name</th>\n",
       "      <th>duration</th>\n",
       "      <th>language</th>\n",
       "      <th>country</th>\n",
       "    </tr>\n",
       "  </thead>\n",
       "  <tbody>\n",
       "    <tr>\n",
       "      <th>3645</th>\n",
       "      <td>Smiling Fish &amp; Goat on Fire</td>\n",
       "      <td>Derick Martini</td>\n",
       "      <td>Comedy|Romance</td>\n",
       "      <td>7.6</td>\n",
       "      <td>Kevin Jordan</td>\n",
       "      <td>90.0</td>\n",
       "      <td>English</td>\n",
       "      <td>USA</td>\n",
       "    </tr>\n",
       "    <tr>\n",
       "      <th>3646</th>\n",
       "      <td>Clerks</td>\n",
       "      <td>Jason Mewes</td>\n",
       "      <td>Comedy</td>\n",
       "      <td>7.8</td>\n",
       "      <td>Kevin Smith</td>\n",
       "      <td>102.0</td>\n",
       "      <td>English</td>\n",
       "      <td>USA</td>\n",
       "    </tr>\n",
       "    <tr>\n",
       "      <th>3647</th>\n",
       "      <td>In the Company of Men</td>\n",
       "      <td>Stacy Edwards</td>\n",
       "      <td>Comedy|Drama</td>\n",
       "      <td>7.3</td>\n",
       "      <td>Neil LaBute</td>\n",
       "      <td>97.0</td>\n",
       "      <td>English</td>\n",
       "      <td>Canada</td>\n",
       "    </tr>\n",
       "    <tr>\n",
       "      <th>3648</th>\n",
       "      <td>Slacker</td>\n",
       "      <td>Tommy Pallotta</td>\n",
       "      <td>Comedy|Drama</td>\n",
       "      <td>7.1</td>\n",
       "      <td>Richard Linklater</td>\n",
       "      <td>100.0</td>\n",
       "      <td>English</td>\n",
       "      <td>USA</td>\n",
       "    </tr>\n",
       "    <tr>\n",
       "      <th>3649</th>\n",
       "      <td>Pink Flamingos</td>\n",
       "      <td>Divine</td>\n",
       "      <td>Comedy|Crime|Horror</td>\n",
       "      <td>6.1</td>\n",
       "      <td>John Waters</td>\n",
       "      <td>108.0</td>\n",
       "      <td>English</td>\n",
       "      <td>USA</td>\n",
       "    </tr>\n",
       "    <tr>\n",
       "      <th>3650</th>\n",
       "      <td>Clean</td>\n",
       "      <td>Maggie Cheung</td>\n",
       "      <td>Drama|Music|Romance</td>\n",
       "      <td>6.9</td>\n",
       "      <td>Olivier Assayas</td>\n",
       "      <td>110.0</td>\n",
       "      <td>French</td>\n",
       "      <td>France</td>\n",
       "    </tr>\n",
       "    <tr>\n",
       "      <th>3651</th>\n",
       "      <td>The Circle</td>\n",
       "      <td>Fereshteh Sadre Orafaiy</td>\n",
       "      <td>Drama</td>\n",
       "      <td>7.5</td>\n",
       "      <td>Jafar Panahi</td>\n",
       "      <td>90.0</td>\n",
       "      <td>Persian</td>\n",
       "      <td>Iran</td>\n",
       "    </tr>\n",
       "    <tr>\n",
       "      <th>3652</th>\n",
       "      <td>Primer</td>\n",
       "      <td>Shane Carruth</td>\n",
       "      <td>Drama|Sci-Fi|Thriller</td>\n",
       "      <td>7.0</td>\n",
       "      <td>Shane Carruth</td>\n",
       "      <td>77.0</td>\n",
       "      <td>English</td>\n",
       "      <td>USA</td>\n",
       "    </tr>\n",
       "    <tr>\n",
       "      <th>3653</th>\n",
       "      <td>El Mariachi</td>\n",
       "      <td>Carlos Gallardo</td>\n",
       "      <td>Action|Crime|Drama|Romance|Thriller</td>\n",
       "      <td>6.9</td>\n",
       "      <td>Robert Rodriguez</td>\n",
       "      <td>81.0</td>\n",
       "      <td>Spanish</td>\n",
       "      <td>USA</td>\n",
       "    </tr>\n",
       "    <tr>\n",
       "      <th>3654</th>\n",
       "      <td>My Date with Drew</td>\n",
       "      <td>John August</td>\n",
       "      <td>Documentary</td>\n",
       "      <td>6.6</td>\n",
       "      <td>Jon Gunn</td>\n",
       "      <td>90.0</td>\n",
       "      <td>English</td>\n",
       "      <td>USA</td>\n",
       "    </tr>\n",
       "  </tbody>\n",
       "</table>\n",
       "</div>"
      ],
      "text/plain": [
       "                       movie_title             actor_1_name  \\\n",
       "3645  Smiling Fish & Goat on Fire            Derick Martini   \n",
       "3646                       Clerks               Jason Mewes   \n",
       "3647        In the Company of Men             Stacy Edwards   \n",
       "3648                      Slacker            Tommy Pallotta   \n",
       "3649               Pink Flamingos                    Divine   \n",
       "3650                        Clean             Maggie Cheung   \n",
       "3651                   The Circle   Fereshteh Sadre Orafaiy   \n",
       "3652                       Primer             Shane Carruth   \n",
       "3653                  El Mariachi           Carlos Gallardo   \n",
       "3654            My Date with Drew               John August   \n",
       "\n",
       "                                   genres  imdb_score      director_name  \\\n",
       "3645                       Comedy|Romance         7.6       Kevin Jordan   \n",
       "3646                               Comedy         7.8        Kevin Smith   \n",
       "3647                         Comedy|Drama         7.3        Neil LaBute   \n",
       "3648                         Comedy|Drama         7.1  Richard Linklater   \n",
       "3649                  Comedy|Crime|Horror         6.1        John Waters   \n",
       "3650                  Drama|Music|Romance         6.9    Olivier Assayas   \n",
       "3651                                Drama         7.5       Jafar Panahi   \n",
       "3652                Drama|Sci-Fi|Thriller         7.0      Shane Carruth   \n",
       "3653  Action|Crime|Drama|Romance|Thriller         6.9   Robert Rodriguez   \n",
       "3654                          Documentary         6.6           Jon Gunn   \n",
       "\n",
       "      duration language country  \n",
       "3645      90.0  English     USA  \n",
       "3646     102.0  English     USA  \n",
       "3647      97.0  English  Canada  \n",
       "3648     100.0  English     USA  \n",
       "3649     108.0  English     USA  \n",
       "3650     110.0   French  France  \n",
       "3651      90.0  Persian    Iran  \n",
       "3652      77.0  English     USA  \n",
       "3653      81.0  Spanish     USA  \n",
       "3654      90.0  English     USA  "
      ]
     },
     "metadata": {},
     "output_type": "display_data"
    },
    {
     "name": "stdout",
     "output_type": "stream",
     "text": [
      "(3655, 8)\n"
     ]
    }
   ],
   "source": [
    "df = pd.read_sql_query(\"SELECT * FROM input_table\",\n",
    "    engine)\n",
    "display(df.tail(10))\n",
    "print(df.shape)"
   ]
  },
  {
   "cell_type": "code",
   "execution_count": 82,
   "id": "a9fee2ba-9838-4348-af2b-9aba6b04acd5",
   "metadata": {},
   "outputs": [
    {
     "data": {
      "text/plain": [
       "Index(['movie_title', 'actor_1_name', 'genres', 'imdb_score', 'director_name',\n",
       "       'duration', 'language', 'country'],\n",
       "      dtype='object')"
      ]
     },
     "execution_count": 82,
     "metadata": {},
     "output_type": "execute_result"
    }
   ],
   "source": [
    "df.columns"
   ]
  },
  {
   "cell_type": "code",
   "execution_count": 83,
   "id": "aed7c8b4-2755-4dc1-94c0-f730e1ec85c9",
   "metadata": {},
   "outputs": [
    {
     "data": {
      "text/plain": [
       "movie_title       object\n",
       "actor_1_name      object\n",
       "genres            object\n",
       "imdb_score       float64\n",
       "director_name     object\n",
       "duration         float64\n",
       "language          object\n",
       "country           object\n",
       "dtype: object"
      ]
     },
     "execution_count": 83,
     "metadata": {},
     "output_type": "execute_result"
    }
   ],
   "source": [
    "df.dtypes"
   ]
  },
  {
   "cell_type": "code",
   "execution_count": 84,
   "id": "e32d9967-3fb6-46fb-9f48-21649fafd823",
   "metadata": {},
   "outputs": [],
   "source": [
    "df['movie_title'] = df['movie_title'].str.rstrip('\\xa0')"
   ]
  },
  {
   "cell_type": "code",
   "execution_count": 85,
   "id": "6b6b2ea4-3a84-4ddf-b203-3053ca58a051",
   "metadata": {},
   "outputs": [
    {
     "data": {
      "text/plain": [
       "array([['Christoph Waltz', 'Action|Adventure|Thriller', 6.8,\n",
       "        'Sam Mendes', 148.0, 'English', 'UK']], dtype=object)"
      ]
     },
     "execution_count": 85,
     "metadata": {},
     "output_type": "execute_result"
    }
   ],
   "source": [
    "features = input_movie[['actor_1_name', 'genres', 'imdb_score', 'director_name', 'duration', 'language', 'country']]\n",
    "features.to_numpy()"
   ]
  },
  {
   "cell_type": "code",
   "execution_count": 86,
   "id": "6b4e4fc3-9cda-4f09-abe3-d5029b9d11f0",
   "metadata": {},
   "outputs": [],
   "source": [
    "from sklearn.metrics.pairwise import cosine_similarity\n",
    "from sklearn.feature_extraction.text import TfidfVectorizer\n",
    "from sklearn.preprocessing import MinMaxScaler"
   ]
  },
  {
   "cell_type": "code",
   "execution_count": 91,
   "id": "dc976208-061c-4b9b-affa-d8165c6d9e34",
   "metadata": {
    "scrolled": true
   },
   "outputs": [],
   "source": [
    "def get_recommendations(input_title):\n",
    "    input_movie = df[df['movie_title'] == input_title]\n",
    "    \n",
    "    features = input_movie[['actor_1_name', 'genres', 'imdb_score', 'director_name', 'duration', 'language', 'country']]\n",
    "    \n",
    "    tfidf = TfidfVectorizer()\n",
    "    tfidf_matrix = tfidf.fit_transform(df['genres'] + \" \" + df['actor_1_name'] + \" \" + df['director_name'] + \" \" + df['language'] + \" \" + df['country'])\n",
    "    \n",
    "    scaler = MinMaxScaler()\n",
    "    numerical_features = scaler.fit_transform(df[['imdb_score', 'duration']])\n",
    "    \n",
    "    combined_features = pd.concat([pd.DataFrame(tfidf_matrix.toarray()), pd.DataFrame(numerical_features)], axis=1)\n",
    "    \n",
    "    cosine_sim = cosine_similarity(combined_features, combined_features)\n",
    "    \n",
    "    idx = df.index[df['movie_title'] == input_title].tolist()[0]\n",
    "    \n",
    "    sim_scores = list(enumerate(cosine_sim[idx]))\n",
    "    \n",
    "    sim_scores = sorted(sim_scores, key=lambda x: x[1], reverse=True)\n",
    "    \n",
    "    sim_indices = [i[0] for i in sim_scores[1:6]]  \n",
    "    \n",
    "    return df['movie_title'].iloc[sim_indices]"
   ]
  },
  {
   "cell_type": "code",
   "execution_count": 92,
   "id": "be338fbb-91cc-4418-8670-f8dc3fda8ea1",
   "metadata": {},
   "outputs": [
    {
     "name": "stdout",
     "output_type": "stream",
     "text": [
      "61      The Legend of Tarzan\n",
      "29                   Skyfall\n",
      "2769                Big Eyes\n",
      "2327         American Beauty\n",
      "434        Road to Perdition\n",
      "Name: movie_title, dtype: object\n"
     ]
    }
   ],
   "source": [
    "# Appel de la fonction avec le titre du film en entrée\n",
    "top_5_similar_movies = get_recommendations(\"Spectre\")\n",
    "print(top_5_similar_movies)"
   ]
  },
  {
   "cell_type": "code",
   "execution_count": null,
   "id": "567f35e5-bc83-48f3-97b5-8ca39ae38749",
   "metadata": {},
   "outputs": [],
   "source": []
  }
 ],
 "metadata": {
  "kernelspec": {
   "display_name": "Python 3 (ipykernel)",
   "language": "python",
   "name": "python3"
  },
  "language_info": {
   "codemirror_mode": {
    "name": "ipython",
    "version": 3
   },
   "file_extension": ".py",
   "mimetype": "text/x-python",
   "name": "python",
   "nbconvert_exporter": "python",
   "pygments_lexer": "ipython3",
   "version": "3.8.12"
  },
  "vscode": {
   "interpreter": {
    "hash": "7f90f007330d571292571d26ef58eaf24fd1ae8c80e2b402f38ea8d6cc5c5dba"
   }
  }
 },
 "nbformat": 4,
 "nbformat_minor": 5
}
